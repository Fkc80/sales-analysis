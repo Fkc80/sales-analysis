{
 "cells": [
  {
   "cell_type": "markdown",
   "id": "76e7b363",
   "metadata": {},
   "source": [
    "# Sales Analysis - Step by Step (Beginner Friendly)\n",
    "\n",
    "**Amaç:** Bu notebook, satış verileri üzerinde sıfırdan başlayarak adım adım Keşifsel Veri Analizi (EDA) yapmayı öğretir.\n",
    "\n",
    "**İçerik:**\n",
    "1. Ortam kurulumu ve kütüphanelerin yüklenmesi\n",
    "2. Veriyi okuma ve ilk inceleme\n",
    "3. Veri temizleme (tarih, eksikler, yinelenen satırlar)\n",
    "4. Özellik çıkarımı (Ay, Yıl vb.)\n",
    "5. Sık sorulan iş soruları (business questions) ve cevapları\n",
    "6. Görselleştirmeler (tek grafik / chart başına tek plot)\n",
    "7. Sonuçların `results/` klasörüne kaydedilmesi"
   ]
  },
  {
   "cell_type": "markdown",
   "id": "6835960d",
   "metadata": {},
   "source": [
    "## 0) Kurulum Kontrolü\n",
    "\n",
    "Aşağıdaki komutu çalıştırarak kütüphanelerin doğru yüklendiğini test edin."
   ]
  },
  {
   "cell_type": "code",
   "execution_count": 1,
   "id": "bd54c1d1",
   "metadata": {},
   "outputs": [
    {
     "name": "stdout",
     "output_type": "stream",
     "text": [
      "Python: 3.11.4 (tags/v3.11.4:d2340ef, Jun  7 2023, 05:45:37) [MSC v.1934 64 bit (AMD64)]\n",
      "NumPy: 2.3.3\n",
      "Pandas: 2.3.2\n",
      "Matplotlib: 3.10.6\n"
     ]
    }
   ],
   "source": [
    "import sys, os\n",
    "import numpy as np\n",
    "import pandas as pd\n",
    "import matplotlib.pyplot as plt\n",
    "\n",
    "print(\"Python:\", sys.version)\n",
    "print(\"NumPy:\", np.__version__)\n",
    "print(\"Pandas:\", pd.__version__)\n",
    "print(\"Matplotlib:\", plt.matplotlib.__version__)\n",
    "\n",
    "# Çıktı görmüyorsanız, `pip install -r requirements.txt` komutu ile kurulum yapın."
   ]
  },
  {
   "cell_type": "markdown",
   "id": "629b71dd",
   "metadata": {},
   "source": [
    "## 1) Veriyi Yükleme\n",
    "\n",
    "- `data/sales_sample.csv` dosyasını Pandas ile okuyacağız.\n",
    "- Tarih alanını (OrderDate) `datetime` tipine çevireceğiz."
   ]
  },
  {
   "cell_type": "code",
   "execution_count": 2,
   "id": "3dea22f9",
   "metadata": {},
   "outputs": [
    {
     "data": {
      "text/html": [
       "<div>\n",
       "<style scoped>\n",
       "    .dataframe tbody tr th:only-of-type {\n",
       "        vertical-align: middle;\n",
       "    }\n",
       "\n",
       "    .dataframe tbody tr th {\n",
       "        vertical-align: top;\n",
       "    }\n",
       "\n",
       "    .dataframe thead th {\n",
       "        text-align: right;\n",
       "    }\n",
       "</style>\n",
       "<table border=\"1\" class=\"dataframe\">\n",
       "  <thead>\n",
       "    <tr style=\"text-align: right;\">\n",
       "      <th></th>\n",
       "      <th>OrderID</th>\n",
       "      <th>OrderDate</th>\n",
       "      <th>Country</th>\n",
       "      <th>City</th>\n",
       "      <th>Segment</th>\n",
       "      <th>Category</th>\n",
       "      <th>SubCategory</th>\n",
       "      <th>ProductName</th>\n",
       "      <th>Quantity</th>\n",
       "      <th>Discount</th>\n",
       "      <th>Sales</th>\n",
       "      <th>Profit</th>\n",
       "    </tr>\n",
       "  </thead>\n",
       "  <tbody>\n",
       "    <tr>\n",
       "      <th>0</th>\n",
       "      <td>DE-20230817-0001</td>\n",
       "      <td>2023-08-17</td>\n",
       "      <td>DE</td>\n",
       "      <td>München</td>\n",
       "      <td>Corporate</td>\n",
       "      <td>Office Supplies</td>\n",
       "      <td>Storage</td>\n",
       "      <td>Storage #3286</td>\n",
       "      <td>3</td>\n",
       "      <td>0.00</td>\n",
       "      <td>84.69</td>\n",
       "      <td>17.71</td>\n",
       "    </tr>\n",
       "    <tr>\n",
       "      <th>1</th>\n",
       "      <td>DE-20240827-0002</td>\n",
       "      <td>2024-08-27</td>\n",
       "      <td>DE</td>\n",
       "      <td>München</td>\n",
       "      <td>Consumer</td>\n",
       "      <td>Furniture</td>\n",
       "      <td>Supplies</td>\n",
       "      <td>Supplies #7912</td>\n",
       "      <td>2</td>\n",
       "      <td>0.05</td>\n",
       "      <td>622.42</td>\n",
       "      <td>104.56</td>\n",
       "    </tr>\n",
       "    <tr>\n",
       "      <th>2</th>\n",
       "      <td>DE-20230827-0003</td>\n",
       "      <td>2023-08-27</td>\n",
       "      <td>DE</td>\n",
       "      <td>Berlin</td>\n",
       "      <td>Corporate</td>\n",
       "      <td>Office Supplies</td>\n",
       "      <td>Paper</td>\n",
       "      <td>Paper #9279</td>\n",
       "      <td>5</td>\n",
       "      <td>0.05</td>\n",
       "      <td>11.57</td>\n",
       "      <td>0.47</td>\n",
       "    </tr>\n",
       "    <tr>\n",
       "      <th>3</th>\n",
       "      <td>DE-20241027-0004</td>\n",
       "      <td>2024-10-27</td>\n",
       "      <td>DE</td>\n",
       "      <td>Bremen</td>\n",
       "      <td>Corporate</td>\n",
       "      <td>Office Supplies</td>\n",
       "      <td>Labels</td>\n",
       "      <td>Labels #9928</td>\n",
       "      <td>6</td>\n",
       "      <td>0.05</td>\n",
       "      <td>66.03</td>\n",
       "      <td>12.62</td>\n",
       "    </tr>\n",
       "    <tr>\n",
       "      <th>4</th>\n",
       "      <td>DE-20230107-0005</td>\n",
       "      <td>2023-01-07</td>\n",
       "      <td>DE</td>\n",
       "      <td>Düsseldorf</td>\n",
       "      <td>Home Office</td>\n",
       "      <td>Office Supplies</td>\n",
       "      <td>Art</td>\n",
       "      <td>Art #3615</td>\n",
       "      <td>3</td>\n",
       "      <td>0.00</td>\n",
       "      <td>30.27</td>\n",
       "      <td>5.89</td>\n",
       "    </tr>\n",
       "  </tbody>\n",
       "</table>\n",
       "</div>"
      ],
      "text/plain": [
       "            OrderID  OrderDate Country        City      Segment  \\\n",
       "0  DE-20230817-0001 2023-08-17      DE     München    Corporate   \n",
       "1  DE-20240827-0002 2024-08-27      DE     München     Consumer   \n",
       "2  DE-20230827-0003 2023-08-27      DE      Berlin    Corporate   \n",
       "3  DE-20241027-0004 2024-10-27      DE      Bremen    Corporate   \n",
       "4  DE-20230107-0005 2023-01-07      DE  Düsseldorf  Home Office   \n",
       "\n",
       "          Category SubCategory     ProductName  Quantity  Discount   Sales  \\\n",
       "0  Office Supplies     Storage   Storage #3286         3      0.00   84.69   \n",
       "1        Furniture    Supplies  Supplies #7912         2      0.05  622.42   \n",
       "2  Office Supplies       Paper     Paper #9279         5      0.05   11.57   \n",
       "3  Office Supplies      Labels    Labels #9928         6      0.05   66.03   \n",
       "4  Office Supplies         Art       Art #3615         3      0.00   30.27   \n",
       "\n",
       "   Profit  \n",
       "0   17.71  \n",
       "1  104.56  \n",
       "2    0.47  \n",
       "3   12.62  \n",
       "4    5.89  "
      ]
     },
     "execution_count": 2,
     "metadata": {},
     "output_type": "execute_result"
    }
   ],
   "source": [
    "import pandas as pd\n",
    "from pathlib import Path\n",
    "\n",
    "DATA_PATH = Path(\"..\") / \"data\" / \"sales_sample.csv\"\n",
    "df = pd.read_csv(DATA_PATH)\n",
    "\n",
    "# Tarih alanını datetime formatına çevir\n",
    "df[\"OrderDate\"] = pd.to_datetime(df[\"OrderDate\"], errors=\"coerce\")\n",
    "\n",
    "df.head()"
   ]
  },
  {
   "cell_type": "markdown",
   "id": "07148c11",
   "metadata": {},
   "source": [
    "## 2) Hızlı Genel Bakış\n",
    "\n",
    "- Şema ve veri tipleri\n",
    "- Sayısal sütunların özet istatistikleri\n",
    "- Eksik değer kontrolü"
   ]
  },
  {
   "cell_type": "code",
   "execution_count": 3,
   "id": "cf5e37d9",
   "metadata": {},
   "outputs": [
    {
     "name": "stdout",
     "output_type": "stream",
     "text": [
      "<class 'pandas.core.frame.DataFrame'>\n",
      "RangeIndex: 250 entries, 0 to 249\n",
      "Data columns (total 12 columns):\n",
      " #   Column       Non-Null Count  Dtype         \n",
      "---  ------       --------------  -----         \n",
      " 0   OrderID      250 non-null    object        \n",
      " 1   OrderDate    250 non-null    datetime64[ns]\n",
      " 2   Country      250 non-null    object        \n",
      " 3   City         250 non-null    object        \n",
      " 4   Segment      250 non-null    object        \n",
      " 5   Category     250 non-null    object        \n",
      " 6   SubCategory  250 non-null    object        \n",
      " 7   ProductName  250 non-null    object        \n",
      " 8   Quantity     250 non-null    int64         \n",
      " 9   Discount     250 non-null    float64       \n",
      " 10  Sales        250 non-null    float64       \n",
      " 11  Profit       250 non-null    float64       \n",
      "dtypes: datetime64[ns](1), float64(3), int64(1), object(7)\n",
      "memory usage: 23.6+ KB\n"
     ]
    },
    {
     "data": {
      "text/plain": [
       "None"
      ]
     },
     "metadata": {},
     "output_type": "display_data"
    },
    {
     "data": {
      "text/html": [
       "<div>\n",
       "<style scoped>\n",
       "    .dataframe tbody tr th:only-of-type {\n",
       "        vertical-align: middle;\n",
       "    }\n",
       "\n",
       "    .dataframe tbody tr th {\n",
       "        vertical-align: top;\n",
       "    }\n",
       "\n",
       "    .dataframe thead th {\n",
       "        text-align: right;\n",
       "    }\n",
       "</style>\n",
       "<table border=\"1\" class=\"dataframe\">\n",
       "  <thead>\n",
       "    <tr style=\"text-align: right;\">\n",
       "      <th></th>\n",
       "      <th>count</th>\n",
       "      <th>mean</th>\n",
       "      <th>min</th>\n",
       "      <th>25%</th>\n",
       "      <th>50%</th>\n",
       "      <th>75%</th>\n",
       "      <th>max</th>\n",
       "      <th>std</th>\n",
       "    </tr>\n",
       "  </thead>\n",
       "  <tbody>\n",
       "    <tr>\n",
       "      <th>OrderDate</th>\n",
       "      <td>250</td>\n",
       "      <td>2023-12-24 22:27:50.400000</td>\n",
       "      <td>2023-01-07 00:00:00</td>\n",
       "      <td>2023-06-21 12:00:00</td>\n",
       "      <td>2023-12-19 00:00:00</td>\n",
       "      <td>2024-05-24 18:00:00</td>\n",
       "      <td>2024-12-27 00:00:00</td>\n",
       "      <td>NaN</td>\n",
       "    </tr>\n",
       "    <tr>\n",
       "      <th>Quantity</th>\n",
       "      <td>250.0</td>\n",
       "      <td>2.816</td>\n",
       "      <td>1.0</td>\n",
       "      <td>1.0</td>\n",
       "      <td>3.0</td>\n",
       "      <td>4.0</td>\n",
       "      <td>8.0</td>\n",
       "      <td>1.632422</td>\n",
       "    </tr>\n",
       "    <tr>\n",
       "      <th>Discount</th>\n",
       "      <td>250.0</td>\n",
       "      <td>0.0476</td>\n",
       "      <td>0.0</td>\n",
       "      <td>0.0</td>\n",
       "      <td>0.0</td>\n",
       "      <td>0.1</td>\n",
       "      <td>0.15</td>\n",
       "      <td>0.058891</td>\n",
       "    </tr>\n",
       "    <tr>\n",
       "      <th>Sales</th>\n",
       "      <td>250.0</td>\n",
       "      <td>578.61656</td>\n",
       "      <td>3.02</td>\n",
       "      <td>71.82</td>\n",
       "      <td>253.03</td>\n",
       "      <td>793.7575</td>\n",
       "      <td>4030.83</td>\n",
       "      <td>750.391333</td>\n",
       "    </tr>\n",
       "    <tr>\n",
       "      <th>Profit</th>\n",
       "      <td>250.0</td>\n",
       "      <td>80.64824</td>\n",
       "      <td>0.29</td>\n",
       "      <td>12.17</td>\n",
       "      <td>36.1</td>\n",
       "      <td>106.4725</td>\n",
       "      <td>495.3</td>\n",
       "      <td>100.596224</td>\n",
       "    </tr>\n",
       "  </tbody>\n",
       "</table>\n",
       "</div>"
      ],
      "text/plain": [
       "           count                        mean                  min  \\\n",
       "OrderDate    250  2023-12-24 22:27:50.400000  2023-01-07 00:00:00   \n",
       "Quantity   250.0                       2.816                  1.0   \n",
       "Discount   250.0                      0.0476                  0.0   \n",
       "Sales      250.0                   578.61656                 3.02   \n",
       "Profit     250.0                    80.64824                 0.29   \n",
       "\n",
       "                           25%                  50%                  75%  \\\n",
       "OrderDate  2023-06-21 12:00:00  2023-12-19 00:00:00  2024-05-24 18:00:00   \n",
       "Quantity                   1.0                  3.0                  4.0   \n",
       "Discount                   0.0                  0.0                  0.1   \n",
       "Sales                    71.82               253.03             793.7575   \n",
       "Profit                   12.17                 36.1             106.4725   \n",
       "\n",
       "                           max         std  \n",
       "OrderDate  2024-12-27 00:00:00         NaN  \n",
       "Quantity                   8.0    1.632422  \n",
       "Discount                  0.15    0.058891  \n",
       "Sales                  4030.83  750.391333  \n",
       "Profit                   495.3  100.596224  "
      ]
     },
     "metadata": {},
     "output_type": "display_data"
    },
    {
     "data": {
      "text/plain": [
       "OrderID        0\n",
       "OrderDate      0\n",
       "Country        0\n",
       "City           0\n",
       "Segment        0\n",
       "Category       0\n",
       "SubCategory    0\n",
       "ProductName    0\n",
       "Quantity       0\n",
       "Discount       0\n",
       "Sales          0\n",
       "Profit         0\n",
       "dtype: int64"
      ]
     },
     "execution_count": 3,
     "metadata": {},
     "output_type": "execute_result"
    }
   ],
   "source": [
    "display(df.info())\n",
    "display(df.describe().T)\n",
    "df.isna().sum()"
   ]
  },
  {
   "cell_type": "markdown",
   "id": "01a77abb",
   "metadata": {},
   "source": [
    "## 3) Veri Temizleme\n",
    "\n",
    "- Geçersiz tarihleri düşür\n",
    "- Yinelenen (duplicate) satır var mı?"
   ]
  },
  {
   "cell_type": "code",
   "execution_count": 4,
   "id": "0b88ff4c",
   "metadata": {},
   "outputs": [
    {
     "name": "stdout",
     "output_type": "stream",
     "text": [
      "Geçersiz tarihli satırlar çıkarıldı: 0 satır.\n",
      "Yinelenen satır sayısı: 0\n"
     ]
    }
   ],
   "source": [
    "# Geçersiz tarihleri çıkar\n",
    "before = len(df)\n",
    "df = df.dropna(subset=[\"OrderDate\"])\n",
    "after = len(df)\n",
    "print(f\"Geçersiz tarihli satırlar çıkarıldı: {before - after} satır.\")\n",
    "\n",
    "# Yinelenen satırlar\n",
    "dups = df.duplicated().sum()\n",
    "print(\"Yinelenen satır sayısı:\", dups)\n",
    "if dups > 0:\n",
    "    df = df.drop_duplicates()\n",
    "    print(\"Yinelenenler düşüldü. Yeni satır sayısı:\", len(df))"
   ]
  },
  {
   "cell_type": "markdown",
   "id": "1692a507",
   "metadata": {},
   "source": [
    "## 4) Özellik Çıkarımı (Feature Engineering)\n",
    "\n",
    "- Yıl ve Ay sütunlarını oluştur\n",
    "- Aylık gruplama için `YearMonth` (YYYY-MM) alanı"
   ]
  },
  {
   "cell_type": "code",
   "execution_count": 5,
   "id": "edbf4d3c",
   "metadata": {},
   "outputs": [
    {
     "data": {
      "text/html": [
       "<div>\n",
       "<style scoped>\n",
       "    .dataframe tbody tr th:only-of-type {\n",
       "        vertical-align: middle;\n",
       "    }\n",
       "\n",
       "    .dataframe tbody tr th {\n",
       "        vertical-align: top;\n",
       "    }\n",
       "\n",
       "    .dataframe thead th {\n",
       "        text-align: right;\n",
       "    }\n",
       "</style>\n",
       "<table border=\"1\" class=\"dataframe\">\n",
       "  <thead>\n",
       "    <tr style=\"text-align: right;\">\n",
       "      <th></th>\n",
       "      <th>OrderID</th>\n",
       "      <th>OrderDate</th>\n",
       "      <th>Country</th>\n",
       "      <th>City</th>\n",
       "      <th>Segment</th>\n",
       "      <th>Category</th>\n",
       "      <th>SubCategory</th>\n",
       "      <th>ProductName</th>\n",
       "      <th>Quantity</th>\n",
       "      <th>Discount</th>\n",
       "      <th>Sales</th>\n",
       "      <th>Profit</th>\n",
       "      <th>Year</th>\n",
       "      <th>Month</th>\n",
       "      <th>YearMonth</th>\n",
       "    </tr>\n",
       "  </thead>\n",
       "  <tbody>\n",
       "    <tr>\n",
       "      <th>0</th>\n",
       "      <td>DE-20230817-0001</td>\n",
       "      <td>2023-08-17</td>\n",
       "      <td>DE</td>\n",
       "      <td>München</td>\n",
       "      <td>Corporate</td>\n",
       "      <td>Office Supplies</td>\n",
       "      <td>Storage</td>\n",
       "      <td>Storage #3286</td>\n",
       "      <td>3</td>\n",
       "      <td>0.00</td>\n",
       "      <td>84.69</td>\n",
       "      <td>17.71</td>\n",
       "      <td>2023</td>\n",
       "      <td>8</td>\n",
       "      <td>2023-08</td>\n",
       "    </tr>\n",
       "    <tr>\n",
       "      <th>1</th>\n",
       "      <td>DE-20240827-0002</td>\n",
       "      <td>2024-08-27</td>\n",
       "      <td>DE</td>\n",
       "      <td>München</td>\n",
       "      <td>Consumer</td>\n",
       "      <td>Furniture</td>\n",
       "      <td>Supplies</td>\n",
       "      <td>Supplies #7912</td>\n",
       "      <td>2</td>\n",
       "      <td>0.05</td>\n",
       "      <td>622.42</td>\n",
       "      <td>104.56</td>\n",
       "      <td>2024</td>\n",
       "      <td>8</td>\n",
       "      <td>2024-08</td>\n",
       "    </tr>\n",
       "    <tr>\n",
       "      <th>2</th>\n",
       "      <td>DE-20230827-0003</td>\n",
       "      <td>2023-08-27</td>\n",
       "      <td>DE</td>\n",
       "      <td>Berlin</td>\n",
       "      <td>Corporate</td>\n",
       "      <td>Office Supplies</td>\n",
       "      <td>Paper</td>\n",
       "      <td>Paper #9279</td>\n",
       "      <td>5</td>\n",
       "      <td>0.05</td>\n",
       "      <td>11.57</td>\n",
       "      <td>0.47</td>\n",
       "      <td>2023</td>\n",
       "      <td>8</td>\n",
       "      <td>2023-08</td>\n",
       "    </tr>\n",
       "    <tr>\n",
       "      <th>3</th>\n",
       "      <td>DE-20241027-0004</td>\n",
       "      <td>2024-10-27</td>\n",
       "      <td>DE</td>\n",
       "      <td>Bremen</td>\n",
       "      <td>Corporate</td>\n",
       "      <td>Office Supplies</td>\n",
       "      <td>Labels</td>\n",
       "      <td>Labels #9928</td>\n",
       "      <td>6</td>\n",
       "      <td>0.05</td>\n",
       "      <td>66.03</td>\n",
       "      <td>12.62</td>\n",
       "      <td>2024</td>\n",
       "      <td>10</td>\n",
       "      <td>2024-10</td>\n",
       "    </tr>\n",
       "    <tr>\n",
       "      <th>4</th>\n",
       "      <td>DE-20230107-0005</td>\n",
       "      <td>2023-01-07</td>\n",
       "      <td>DE</td>\n",
       "      <td>Düsseldorf</td>\n",
       "      <td>Home Office</td>\n",
       "      <td>Office Supplies</td>\n",
       "      <td>Art</td>\n",
       "      <td>Art #3615</td>\n",
       "      <td>3</td>\n",
       "      <td>0.00</td>\n",
       "      <td>30.27</td>\n",
       "      <td>5.89</td>\n",
       "      <td>2023</td>\n",
       "      <td>1</td>\n",
       "      <td>2023-01</td>\n",
       "    </tr>\n",
       "  </tbody>\n",
       "</table>\n",
       "</div>"
      ],
      "text/plain": [
       "            OrderID  OrderDate Country        City      Segment  \\\n",
       "0  DE-20230817-0001 2023-08-17      DE     München    Corporate   \n",
       "1  DE-20240827-0002 2024-08-27      DE     München     Consumer   \n",
       "2  DE-20230827-0003 2023-08-27      DE      Berlin    Corporate   \n",
       "3  DE-20241027-0004 2024-10-27      DE      Bremen    Corporate   \n",
       "4  DE-20230107-0005 2023-01-07      DE  Düsseldorf  Home Office   \n",
       "\n",
       "          Category SubCategory     ProductName  Quantity  Discount   Sales  \\\n",
       "0  Office Supplies     Storage   Storage #3286         3      0.00   84.69   \n",
       "1        Furniture    Supplies  Supplies #7912         2      0.05  622.42   \n",
       "2  Office Supplies       Paper     Paper #9279         5      0.05   11.57   \n",
       "3  Office Supplies      Labels    Labels #9928         6      0.05   66.03   \n",
       "4  Office Supplies         Art       Art #3615         3      0.00   30.27   \n",
       "\n",
       "   Profit  Year  Month YearMonth  \n",
       "0   17.71  2023      8   2023-08  \n",
       "1  104.56  2024      8   2024-08  \n",
       "2    0.47  2023      8   2023-08  \n",
       "3   12.62  2024     10   2024-10  \n",
       "4    5.89  2023      1   2023-01  "
      ]
     },
     "execution_count": 5,
     "metadata": {},
     "output_type": "execute_result"
    }
   ],
   "source": [
    "df[\"Year\"] = df[\"OrderDate\"].dt.year\n",
    "df[\"Month\"] = df[\"OrderDate\"].dt.month\n",
    "df[\"YearMonth\"] = df[\"OrderDate\"].dt.to_period(\"M\").astype(str)\n",
    "\n",
    "df.head()"
   ]
  },
  {
   "cell_type": "markdown",
   "id": "736f248a",
   "metadata": {},
   "source": [
    "## 5) İş Soruları ve Cevaplar (EDA)\n",
    "\n",
    "### Soru 1: En çok ciro (Sales) getiren kategoriler hangileri?"
   ]
  },
  {
   "cell_type": "code",
   "execution_count": 6,
   "id": "45944df1",
   "metadata": {},
   "outputs": [
    {
     "name": "stdout",
     "output_type": "stream",
     "text": [
      "Category\n",
      "Technology         79875.85\n",
      "Furniture          59069.67\n",
      "Office Supplies     5708.62\n",
      "Name: Sales, dtype: float64\n"
     ]
    },
    {
     "data": {
      "image/png": "[encoded data removed]",
      "text/plain": [
       "<Figure size 640x480 with 1 Axes>"
      ]
     },
     "metadata": {},
     "output_type": "display_data"
    }
   ],
   "source": [
    "category_sales = df.groupby(\"Category\")[\"Sales\"].sum().sort_values(ascending=False)\n",
    "print(category_sales)\n",
    "\n",
    "# Çubuk grafik\n",
    "plt.figure()\n",
    "category_sales.plot(kind=\"bar\")\n",
    "plt.title(\"Toplam Satış (Sales) - Kategori Bazında\")\n",
    "plt.xlabel(\"Kategori\")\n",
    "plt.ylabel(\"Toplam Satış\")\n",
    "plt.tight_layout()\n",
    "plt.show()"
   ]
  },
  {
   "cell_type": "markdown",
   "id": "61c958c6",
   "metadata": {},
   "source": [
    "### Soru 2: Şehirlere göre ciro dağılımı nasıldır? İlk 10 şehir."
   ]
  },
  {
   "cell_type": "code",
   "execution_count": 7,
   "id": "6069064e",
   "metadata": {},
   "outputs": [
    {
     "name": "stdout",
     "output_type": "stream",
     "text": [
      "City\n",
      "Stuttgart     22711.18\n",
      "Köln          22035.18\n",
      "Düsseldorf    21359.00\n",
      "Leipzig       17100.87\n",
      "München       16054.32\n",
      "Bremen        13740.91\n",
      "Dortmund       9000.30\n",
      "Berlin         8588.23\n",
      "Frankfurt      8511.29\n",
      "Hamburg        5552.86\n",
      "Name: Sales, dtype: float64\n"
     ]
    },
    {
     "data": {
      "image/png": "[encoded data removed]",
      "text/plain": [
       "<Figure size 640x480 with 1 Axes>"
      ]
     },
     "metadata": {},
     "output_type": "display_data"
    }
   ],
   "source": [
    "city_sales = df.groupby(\"City\")[\"Sales\"].sum().sort_values(ascending=False).head(10)\n",
    "print(city_sales)\n",
    "\n",
    "plt.figure()\n",
    "city_sales.plot(kind=\"bar\")\n",
    "plt.title(\"Toplam Satış - İlk 10 Şehir\")\n",
    "plt.xlabel(\"Şehir\")\n",
    "plt.ylabel(\"Toplam Satış\")\n",
    "plt.tight_layout()\n",
    "plt.show()"
   ]
  },
  {
   "cell_type": "markdown",
   "id": "928f7d49",
   "metadata": {},
   "source": [
    "### Soru 3: Aylık satış trendi (tüm şehirler için toplam)"
   ]
  },
  {
   "cell_type": "code",
   "execution_count": 8,
   "id": "30f88bc4",
   "metadata": {},
   "outputs": [
    {
     "data": {
      "image/png": "[encoded data removed]",
      "text/plain": [
       "<Figure size 640x480 with 1 Axes>"
      ]
     },
     "metadata": {},
     "output_type": "display_data"
    }
   ],
   "source": [
    "monthly = df.groupby(\"YearMonth\")[\"Sales\"].sum().reset_index()\n",
    "plt.figure()\n",
    "plt.plot(monthly[\"YearMonth\"], monthly[\"Sales\"])\n",
    "plt.title(\"Aylık Toplam Satış Trendi\")\n",
    "plt.xlabel(\"Yıl-Ay\")\n",
    "plt.ylabel(\"Toplam Satış\")\n",
    "plt.xticks(rotation=45, ha=\"right\")\n",
    "plt.tight_layout()\n",
    "plt.show()"
   ]
  },
  {
   "cell_type": "markdown",
   "id": "fd2d059d",
   "metadata": {},
   "source": [
    "### Soru 4: Kâr (Profit) dağılımı kategori bazında"
   ]
  },
  {
   "cell_type": "code",
   "execution_count": 9,
   "id": "d5af802c",
   "metadata": {},
   "outputs": [
    {
     "name": "stdout",
     "output_type": "stream",
     "text": [
      "Category\n",
      "Furniture          10043.47\n",
      "Technology          9018.70\n",
      "Office Supplies     1099.89\n",
      "Name: Profit, dtype: float64\n"
     ]
    },
    {
     "data": {
      "image/png": "[encoded data removed]",
      "text/plain": [
       "<Figure size 640x480 with 1 Axes>"
      ]
     },
     "metadata": {},
     "output_type": "display_data"
    }
   ],
   "source": [
    "category_profit = df.groupby(\"Category\")[\"Profit\"].sum().sort_values(ascending=False)\n",
    "print(category_profit)\n",
    "\n",
    "plt.figure()\n",
    "category_profit.plot(kind=\"bar\")\n",
    "plt.title(\"Toplam Kâr - Kategori Bazında\")\n",
    "plt.xlabel(\"Kategori\")\n",
    "plt.ylabel(\"Toplam Kâr\")\n",
    "plt.tight_layout()\n",
    "plt.show()"
   ]
  },
  {
   "cell_type": "markdown",
   "id": "5eac2166",
   "metadata": {},
   "source": [
    "### Soru 5: Zarar ettiren ürünler (Profit < 0) ve en fazla zarar eden ilk 10 ürün"
   ]
  },
  {
   "cell_type": "code",
   "execution_count": 10,
   "id": "ef45781c",
   "metadata": {},
   "outputs": [
    {
     "data": {
      "text/plain": [
       "Series([], Name: Profit, dtype: float64)"
      ]
     },
     "execution_count": 10,
     "metadata": {},
     "output_type": "execute_result"
    }
   ],
   "source": [
    "loss_products = df[df[\"Profit\"] < 0].groupby(\"ProductName\")[\"Profit\"].sum().sort_values().head(10)\n",
    "loss_products"
   ]
  },
  {
   "cell_type": "markdown",
   "id": "b8b273d5",
   "metadata": {},
   "source": [
    "## 6) Sonuçların Kaydedilmesi\n",
    "\n",
    "- Grafiklerin `results/charts/` klasörüne kaydedilmesi\n",
    "- Kısa özet/çıkarımların `results/insights.md` dosyasına yazılması"
   ]
  },
  {
   "cell_type": "code",
   "execution_count": 11,
   "id": "986741c4",
   "metadata": {},
   "outputs": [],
   "source": [
    "from pathlib import Path\n",
    "\n",
    "charts_dir = Path(\"..\") / \"results\" / \"charts\"\n",
    "charts_dir.mkdir(parents=True, exist_ok=True)\n",
    "\n",
    "# 6.a) Grafikleri dosyaya kaydet\n",
    "# (Grafikleri tekrar çizip kaydediyoruz)\n",
    "plt.figure()\n",
    "category_sales.plot(kind=\"bar\")\n",
    "plt.title(\"Toplam Satış (Sales) - Kategori Bazında\")\n",
    "plt.xlabel(\"Kategori\")\n",
    "plt.ylabel(\"Toplam Satış\")\n",
    "plt.tight_layout()\n",
    "plt.savefig(charts_dir / \"category_sales.png\")\n",
    "plt.close()\n",
    "\n",
    "plt.figure()\n",
    "city_sales.plot(kind=\"bar\")\n",
    "plt.title(\"Toplam Satış - İlk 10 Şehir\")\n",
    "plt.xlabel(\"Şehir\")\n",
    "plt.ylabel(\"Toplam Satış\")\n",
    "plt.tight_layout()\n",
    "plt.savefig(charts_dir / \"city_sales_top10.png\")\n",
    "plt.close()\n",
    "\n",
    "plt.figure()\n",
    "plt.plot(monthly[\"YearMonth\"], monthly[\"Sales\"])\n",
    "plt.title(\"Aylık Toplam Satış Trendi\")\n",
    "plt.xlabel(\"Yıl-Ay\")\n",
    "plt.ylabel(\"Toplam Satış\")\n",
    "plt.xticks(rotation=45, ha=\"right\")\n",
    "plt.tight_layout()\n",
    "plt.savefig(charts_dir / \"monthly_sales_trend.png\")\n",
    "plt.close()\n",
    "\n",
    "plt.figure()\n",
    "category_profit.plot(kind=\"bar\")\n",
    "plt.title(\"Toplam Kâr - Kategori Bazında\")\n",
    "plt.xlabel(\"Kategori\")\n",
    "plt.ylabel(\"Toplam Kâr\")\n",
    "plt.tight_layout()\n",
    "plt.savefig(charts_dir / \"category_profit.png\")\n",
    "plt.close()\n",
    "\n",
    "# 6.b) Kısa içgörüleri kaydet\n",
    "insights_path = Path(\"..\") / \"results\" / \"insights.md\"\n",
    "top_cat = category_sales.idxmax()\n",
    "top_city = city_sales.idxmax()\n",
    "best_month = monthly.iloc[monthly[\"Sales\"].idxmax()][\"YearMonth\"]\n",
    "\n",
    "with open(insights_path, \"w\", encoding=\"utf-8\") as f:\n",
    "    f.write(\"# Özet İçgörüler\\n\\n\")\n",
    "    f.write(f\"- En yüksek satış kategorisi: **{top_cat}**\\n\")\n",
    "    f.write(f\"- En yüksek satış yapılan şehir (ilk 10 listesinden): **{top_city}**\\n\")\n",
    "    f.write(f\"- En yüksek aylık satışın olduğu dönem: **{best_month}**\\n\")\n",
    "    f.write(\"\\n> Not: Bu veriler sentetiktir (örnek). Gerçek iş verilerinde sonuçlar farklı olabilir.\\n\")"
   ]
  },
  {
   "cell_type": "markdown",
   "id": "afd3618a",
   "metadata": {},
   "source": [
    "## Tebrikler 🎉\n",
    "\n",
    "Bu notebook ile:\n",
    "- Veriyi yükledin ve inceledin,\n",
    "- Temizleme ve özellik çıkarımı yaptın,\n",
    "- Sık sorulan iş sorularını yanıtladın,\n",
    "- Grafikler oluşturdun ve sonuçları kaydettin.\n",
    "\n",
    "**Sıradaki adım:** `README.md` dosyasındaki talimatları izleyerek projeyi GitHub'a yükle."
   ]
  }
 ],
 "metadata": {
  "kernelspec": {
   "display_name": "Python 3 (ipykernel)",
   "language": "python",
   "name": "python3"
  },
  "language_info": {
   "codemirror_mode": {
    "name": "ipython",
    "version": 3
   },
   "file_extension": ".py",
   "mimetype": "text/x-python",
   "name": "python",
   "nbconvert_exporter": "python",
   "pygments_lexer": "ipython3",
   "version": "3.11.4"
  }
 },
 "nbformat": 4,
 "nbformat_minor": 5
}
