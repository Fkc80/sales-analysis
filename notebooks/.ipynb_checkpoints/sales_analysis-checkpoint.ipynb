{
  "cells": [
    {
      "cell_type": "markdown",
      "metadata": {},
      "source": [
        "# Sales Analysis - Step by Step (Beginner Friendly)\n",
        "\n",
        "**Amaç:** Bu notebook, satış verileri üzerinde sıfırdan başlayarak adım adım Keşifsel Veri Analizi (EDA) yapmayı öğretir.\n",
        "\n",
        "**İçerik:**\n",
        "1. Ortam kurulumu ve kütüphanelerin yüklenmesi\n",
        "2. Veriyi okuma ve ilk inceleme\n",
        "3. Veri temizleme (tarih, eksikler, yinelenen satırlar)\n",
        "4. Özellik çıkarımı (Ay, Yıl vb.)\n",
        "5. Sık sorulan iş soruları (business questions) ve cevapları\n",
        "6. Görselleştirmeler (tek grafik / chart başına tek plot)\n",
        "7. Sonuçların `results/` klasörüne kaydedilmesi"
      ]
    },
    {
      "cell_type": "markdown",
      "metadata": {},
      "source": [
        "## 0) Kurulum Kontrolü\n",
        "\n",
        "Aşağıdaki komutu çalıştırarak kütüphanelerin doğru yüklendiğini test edin."
      ]
    },
    {
      "cell_type": "code",
      "metadata": {},
      "execution_count": null,
      "outputs": [],
      "source": [
        "import sys, os\n",
        "import numpy as np\n",
        "import pandas as pd\n",
        "import matplotlib.pyplot as plt\n",
        "\n",
        "print(\"Python:\", sys.version)\n",
        "print(\"NumPy:\", np.__version__)\n",
        "print(\"Pandas:\", pd.__version__)\n",
        "print(\"Matplotlib:\", plt.matplotlib.__version__)\n",
        "\n",
        "# Çıktı görmüyorsanız, `pip install -r requirements.txt` komutu ile kurulum yapın."
      ]
    },
    {
      "cell_type": "markdown",
      "metadata": {},
      "source": [
        "## 1) Veriyi Yükleme\n",
        "\n",
        "- `data/sales_sample.csv` dosyasını Pandas ile okuyacağız.\n",
        "- Tarih alanını (OrderDate) `datetime` tipine çevireceğiz."
      ]
    },
    {
      "cell_type": "code",
      "metadata": {},
      "execution_count": null,
      "outputs": [],
      "source": [
        "import pandas as pd\n",
        "from pathlib import Path\n",
        "\n",
        "DATA_PATH = Path(\"..\") / \"data\" / \"sales_sample.csv\"\n",
        "df = pd.read_csv(DATA_PATH)\n",
        "\n",
        "# Tarih alanını datetime formatına çevir\n",
        "df[\"OrderDate\"] = pd.to_datetime(df[\"OrderDate\"], errors=\"coerce\")\n",
        "\n",
        "df.head()"
      ]
    },
    {
      "cell_type": "markdown",
      "metadata": {},
      "source": [
        "## 2) Hızlı Genel Bakış\n",
        "\n",
        "- Şema ve veri tipleri\n",
        "- Sayısal sütunların özet istatistikleri\n",
        "- Eksik değer kontrolü"
      ]
    },
    {
      "cell_type": "code",
      "metadata": {},
      "execution_count": null,
      "outputs": [],
      "source": [
        "display(df.info())\n",
        "display(df.describe(numeric_only=True).T)\n",
        "df.isna().sum()"
      ]
    },
    {
      "cell_type": "markdown",
      "metadata": {},
      "source": [
        "## 3) Veri Temizleme\n",
        "\n",
        "- Geçersiz tarihleri düşür\n",
        "- Yinelenen (duplicate) satır var mı?"
      ]
    },
    {
      "cell_type": "code",
      "metadata": {},
      "execution_count": null,
      "outputs": [],
      "source": [
        "# Geçersiz tarihleri çıkar\n",
        "before = len(df)\n",
        "df = df.dropna(subset=[\"OrderDate\"])\n",
        "after = len(df)\n",
        "print(f\"Geçersiz tarihli satırlar çıkarıldı: {before - after} satır.\")\n",
        "\n",
        "# Yinelenen satırlar\n",
        "dups = df.duplicated().sum()\n",
        "print(\"Yinelenen satır sayısı:\", dups)\n",
        "if dups > 0:\n",
        "    df = df.drop_duplicates()\n",
        "    print(\"Yinelenenler düşüldü. Yeni satır sayısı:\", len(df))"
      ]
    },
    {
      "cell_type": "markdown",
      "metadata": {},
      "source": [
        "## 4) Özellik Çıkarımı (Feature Engineering)\n",
        "\n",
        "- Yıl ve Ay sütunlarını oluştur\n",
        "- Aylık gruplama için `YearMonth` (YYYY-MM) alanı"
      ]
    },
    {
      "cell_type": "code",
      "metadata": {},
      "execution_count": null,
      "outputs": [],
      "source": [
        "df[\"Year\"] = df[\"OrderDate\"].dt.year\n",
        "df[\"Month\"] = df[\"OrderDate\"].dt.month\n",
        "df[\"YearMonth\"] = df[\"OrderDate\"].dt.to_period(\"M\").astype(str)\n",
        "\n",
        "df.head()"
      ]
    },
    {
      "cell_type": "markdown",
      "metadata": {},
      "source": [
        "## 5) İş Soruları ve Cevaplar (EDA)\n",
        "\n",
        "### Soru 1: En çok ciro (Sales) getiren kategoriler hangileri?"
      ]
    },
    {
      "cell_type": "code",
      "metadata": {},
      "execution_count": null,
      "outputs": [],
      "source": [
        "category_sales = df.groupby(\"Category\")[\"Sales\"].sum().sort_values(ascending=False)\n",
        "print(category_sales)\n",
        "\n",
        "# Çubuk grafik\n",
        "plt.figure()\n",
        "category_sales.plot(kind=\"bar\")\n",
        "plt.title(\"Toplam Satış (Sales) - Kategori Bazında\")\n",
        "plt.xlabel(\"Kategori\")\n",
        "plt.ylabel(\"Toplam Satış\")\n",
        "plt.tight_layout()\n",
        "plt.show()"
      ]
    },
    {
      "cell_type": "markdown",
      "metadata": {},
      "source": [
        "### Soru 2: Şehirlere göre ciro dağılımı nasıldır? İlk 10 şehir."
      ]
    },
    {
      "cell_type": "code",
      "metadata": {},
      "execution_count": null,
      "outputs": [],
      "source": [
        "city_sales = df.groupby(\"City\")[\"Sales\"].sum().sort_values(ascending=False).head(10)\n",
        "print(city_sales)\n",
        "\n",
        "plt.figure()\n",
        "city_sales.plot(kind=\"bar\")\n",
        "plt.title(\"Toplam Satış - İlk 10 Şehir\")\n",
        "plt.xlabel(\"Şehir\")\n",
        "plt.ylabel(\"Toplam Satış\")\n",
        "plt.tight_layout()\n",
        "plt.show()"
      ]
    },
    {
      "cell_type": "markdown",
      "metadata": {},
      "source": [
        "### Soru 3: Aylık satış trendi (tüm şehirler için toplam)"
      ]
    },
    {
      "cell_type": "code",
      "metadata": {},
      "execution_count": null,
      "outputs": [],
      "source": [
        "monthly = df.groupby(\"YearMonth\")[\"Sales\"].sum().reset_index()\n",
        "plt.figure()\n",
        "plt.plot(monthly[\"YearMonth\"], monthly[\"Sales\"])\n",
        "plt.title(\"Aylık Toplam Satış Trendi\")\n",
        "plt.xlabel(\"Yıl-Ay\")\n",
        "plt.ylabel(\"Toplam Satış\")\n",
        "plt.xticks(rotation=45, ha=\"right\")\n",
        "plt.tight_layout()\n",
        "plt.show()"
      ]
    },
    {
      "cell_type": "markdown",
      "metadata": {},
      "source": [
        "### Soru 4: Kâr (Profit) dağılımı kategori bazında"
      ]
    },
    {
      "cell_type": "code",
      "metadata": {},
      "execution_count": null,
      "outputs": [],
      "source": [
        "category_profit = df.groupby(\"Category\")[\"Profit\"].sum().sort_values(ascending=False)\n",
        "print(category_profit)\n",
        "\n",
        "plt.figure()\n",
        "category_profit.plot(kind=\"bar\")\n",
        "plt.title(\"Toplam Kâr - Kategori Bazında\")\n",
        "plt.xlabel(\"Kategori\")\n",
        "plt.ylabel(\"Toplam Kâr\")\n",
        "plt.tight_layout()\n",
        "plt.show()"
      ]
    },
    {
      "cell_type": "markdown",
      "metadata": {},
      "source": [
        "### Soru 5: Zarar ettiren ürünler (Profit < 0) ve en fazla zarar eden ilk 10 ürün"
      ]
    },
    {
      "cell_type": "code",
      "metadata": {},
      "execution_count": null,
      "outputs": [],
      "source": [
        "loss_products = df[df[\"Profit\"] < 0].groupby(\"ProductName\")[\"Profit\"].sum().sort_values().head(10)\n",
        "loss_products"
      ]
    },
    {
      "cell_type": "markdown",
      "metadata": {},
      "source": [
        "## 6) Sonuçların Kaydedilmesi\n",
        "\n",
        "- Grafiklerin `results/charts/` klasörüne kaydedilmesi\n",
        "- Kısa özet/çıkarımların `results/insights.md` dosyasına yazılması"
      ]
    },
    {
      "cell_type": "code",
      "metadata": {},
      "execution_count": null,
      "outputs": [],
      "source": [
        "from pathlib import Path\n",
        "\n",
        "charts_dir = Path(\"..\") / \"results\" / \"charts\"\n",
        "charts_dir.mkdir(parents=True, exist_ok=True)\n",
        "\n",
        "# 6.a) Grafikleri dosyaya kaydet\n",
        "# (Grafikleri tekrar çizip kaydediyoruz)\n",
        "plt.figure()\n",
        "category_sales.plot(kind=\"bar\")\n",
        "plt.title(\"Toplam Satış (Sales) - Kategori Bazında\")\n",
        "plt.xlabel(\"Kategori\")\n",
        "plt.ylabel(\"Toplam Satış\")\n",
        "plt.tight_layout()\n",
        "plt.savefig(charts_dir / \"category_sales.png\")\n",
        "plt.close()\n",
        "\n",
        "plt.figure()\n",
        "city_sales.plot(kind=\"bar\")\n",
        "plt.title(\"Toplam Satış - İlk 10 Şehir\")\n",
        "plt.xlabel(\"Şehir\")\n",
        "plt.ylabel(\"Toplam Satış\")\n",
        "plt.tight_layout()\n",
        "plt.savefig(charts_dir / \"city_sales_top10.png\")\n",
        "plt.close()\n",
        "\n",
        "plt.figure()\n",
        "plt.plot(monthly[\"YearMonth\"], monthly[\"Sales\"])\n",
        "plt.title(\"Aylık Toplam Satış Trendi\")\n",
        "plt.xlabel(\"Yıl-Ay\")\n",
        "plt.ylabel(\"Toplam Satış\")\n",
        "plt.xticks(rotation=45, ha=\"right\")\n",
        "plt.tight_layout()\n",
        "plt.savefig(charts_dir / \"monthly_sales_trend.png\")\n",
        "plt.close()\n",
        "\n",
        "plt.figure()\n",
        "category_profit.plot(kind=\"bar\")\n",
        "plt.title(\"Toplam Kâr - Kategori Bazında\")\n",
        "plt.xlabel(\"Kategori\")\n",
        "plt.ylabel(\"Toplam Kâr\")\n",
        "plt.tight_layout()\n",
        "plt.savefig(charts_dir / \"category_profit.png\")\n",
        "plt.close()\n",
        "\n",
        "# 6.b) Kısa içgörüleri kaydet\n",
        "insights_path = Path(\"..\") / \"results\" / \"insights.md\"\n",
        "top_cat = category_sales.idxmax()\n",
        "top_city = city_sales.idxmax()\n",
        "best_month = monthly.iloc[monthly[\"Sales\"].idxmax()][\"YearMonth\"]\n",
        "\n",
        "with open(insights_path, \"w\", encoding=\"utf-8\") as f:\n",
        "    f.write(\"# Özet İçgörüler\\n\\n\")\n",
        "    f.write(f\"- En yüksek satış kategorisi: **{top_cat}**\\n\")\n",
        "    f.write(f\"- En yüksek satış yapılan şehir (ilk 10 listesinden): **{top_city}**\\n\")\n",
        "    f.write(f\"- En yüksek aylık satışın olduğu dönem: **{best_month}**\\n\")\n",
        "    f.write(\"\\n> Not: Bu veriler sentetiktir (örnek). Gerçek iş verilerinde sonuçlar farklı olabilir.\\n\")"
      ]
    },
    {
      "cell_type": "markdown",
      "metadata": {},
      "source": [
        "## Tebrikler 🎉\n",
        "\n",
        "Bu notebook ile:\n",
        "- Veriyi yükledin ve inceledin,\n",
        "- Temizleme ve özellik çıkarımı yaptın,\n",
        "- Sık sorulan iş sorularını yanıtladın,\n",
        "- Grafikler oluşturdun ve sonuçları kaydettin.\n",
        "\n",
        "**Sıradaki adım:** `README.md` dosyasındaki talimatları izleyerek projeyi GitHub'a yükle."
      ]
    }
  ],
  "metadata": {
    "kernelspec": {
      "display_name": "Python 3",
      "language": "python",
      "name": "python3"
    },
    "language_info": {
      "name": "python",
      "version": "3.x"
    }
  },
  "nbformat": 4,
  "nbformat_minor": 5
}